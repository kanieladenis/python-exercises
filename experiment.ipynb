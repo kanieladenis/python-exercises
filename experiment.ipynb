{
 "cells": [
  {
   "cell_type": "markdown",
   "id": "1ea56351",
   "metadata": {},
   "source": [
    "# 1 Conditional Basics\n",
    "\n",
    "# 1A prompt the user for a day of the week, print out whether the day is Monday or not"
   ]
  },
  {
   "cell_type": "code",
   "execution_count": null,
   "id": "b276d7a9",
   "metadata": {},
   "outputs": [],
   "source": [
    "day_of_the_week = input('Enter the day of the week:')\n",
    "\n",
    "if day_of_the_week.lower() == 'monday':\n",
    "    print('Monday')\n",
    "else:\n",
    "    print('Not Monday')"
   ]
  },
  {
   "cell_type": "code",
   "execution_count": null,
   "id": "3bef7801",
   "metadata": {},
   "outputs": [],
   "source": [
    "# 1B prompt the user for a day of the week, print out whether the day is a weekday or a weekend\n"
   ]
  },
  {
   "cell_type": "code",
   "execution_count": null,
   "id": "a8d3e4b7",
   "metadata": {},
   "outputs": [],
   "source": [
    "day_of_the_week = input('Enter the day of the week:')\n",
    "\n",
    "if day_of_the_week.lower() in ['monday', 'tuesday', 'wednesday', 'thursday', 'friday']:\n",
    "    print('Weekday')\n",
    "else:\n",
    "    print('Not Weekend')"
   ]
  },
  {
   "cell_type": "code",
   "execution_count": null,
   "id": "95c0d9f3",
   "metadata": {},
   "outputs": [],
   "source": [
    "# 1C create variables and make up values for:\n",
    "    # 1) the number of hours worked in one week\n",
    "    # 2) the hourly rate\n",
    "    # 3) how much the week's paycheck will be \n",
    "    # 4) write the python code that calculates the weekly paycheck. You get paid time and a half if you work more than 40 hours"
   ]
  },
  {
   "cell_type": "code",
   "execution_count": null,
   "id": "182c87be",
   "metadata": {},
   "outputs": [],
   "source": [
    "weekly_hours_worked = int(input('Enter hours worked this week: '))\n",
    "hourly_rate = int(input('Enter hourly pay rate: '))\n",
    "\n",
    "if weekly_hours_worked > 40:\n",
    "     weekly_paycheck_overtime = (weekly_hours_worked - 40) * (hourly_rate * 1.5)\n",
    "     week_pay = weekly_paycheck_overtime + (hourly_rate * 40)\n",
    "     print(\"Week's Pay: \", week_pay)\n",
    "else:\n",
    "    week_pay = weekly_hours_worked * hourly_rate\n",
    "    print(\"Week's Pay: \", week_pay)"
   ]
  },
  {
   "cell_type": "code",
   "execution_count": null,
   "id": "b147ac4a",
   "metadata": {},
   "outputs": [],
   "source": [
    "def is_two(n):\n",
    "    return n in [2,'2']"
   ]
  },
  {
   "cell_type": "code",
   "execution_count": null,
   "id": "27d0b4fe",
   "metadata": {},
   "outputs": [],
   "source": [
    "is_two(2)"
   ]
  },
  {
   "cell_type": "code",
   "execution_count": null,
   "id": "8f2eac5b",
   "metadata": {},
   "outputs": [],
   "source": [
    "from function_exercises import is_vowel"
   ]
  },
  {
   "cell_type": "code",
   "execution_count": 1,
   "id": "69724ea0",
   "metadata": {},
   "outputs": [],
   "source": [
    "from function_exercises import is_vowel"
   ]
  },
  {
   "cell_type": "code",
   "execution_count": 3,
   "id": "18eb3a87",
   "metadata": {},
   "outputs": [
    {
     "data": {
      "text/plain": [
       "True"
      ]
     },
     "execution_count": 3,
     "metadata": {},
     "output_type": "execute_result"
    }
   ],
   "source": [
    "is_vowel(\"a\")"
   ]
  },
  {
   "cell_type": "code",
   "execution_count": null,
   "id": "97ca6984",
   "metadata": {},
   "outputs": [],
   "source": []
  }
 ],
 "metadata": {
  "kernelspec": {
   "display_name": "Python 3",
   "language": "python",
   "name": "python3"
  },
  "language_info": {
   "codemirror_mode": {
    "name": "ipython",
    "version": 3
   },
   "file_extension": ".py",
   "mimetype": "text/x-python",
   "name": "python",
   "nbconvert_exporter": "python",
   "pygments_lexer": "ipython3",
   "version": "3.8.8"
  }
 },
 "nbformat": 4,
 "nbformat_minor": 5
}
